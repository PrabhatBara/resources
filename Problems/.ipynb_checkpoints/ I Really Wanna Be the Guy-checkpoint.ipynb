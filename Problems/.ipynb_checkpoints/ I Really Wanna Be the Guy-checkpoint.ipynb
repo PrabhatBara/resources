{
 "cells": [
  {
   "cell_type": "markdown",
   "metadata": {},
   "source": [
    "##There is a game called \"I Wanna Be the Guy\", consisting of n levels. Little X and his friend Little Y are addicted to the game. Each of them wants to pass the whole game.\n",
    "\n",
    "Little X can pass only p levels of the game. And Little Y can pass only q levels of the game. You are given the indices of levels Little X can pass and the indices of levels Little Y can pass. Will Little X and Little Y pass the whole game, if they cooperate each other?\n",
    "\n",
    "###Input Format\n",
    "\n",
    "The first line contains a single integer n.\n",
    "\n",
    "The next line contains an integer p at first, then follows p distinct integers a1, a2, ..., ap. These integers denote the indices of levels Little X can pass. The next line contains the levels Little Y can pass in the same format. It's assumed that levels are numbered from 1 to n.\n",
    "\n",
    "Constraints\n",
    "\n",
    "1  ≤  n  ≤  100\n",
    "\n",
    "0 ≤ p, q ≤ n\n",
    "\n",
    "1 ≤ ai ≤ n\n",
    "\n",
    "###Output Format\n",
    "\n",
    "If they can pass all the levels, print \"I become the guy.\". If it's impossible, print \"Oh, my keyboard!\" (without the quotes).\n",
    "\n",
    "Sample Input 0\n",
    "\n",
    "4\n",
    "3 1 2 3\n",
    "2 2 4\n",
    "\n",
    "Sample Output 0\n",
    "\n",
    "I become the guy.\n",
    "\n",
    "Explanation 0\n",
    "\n",
    "In the first sample, Little X can pass levels [1, 2, 3], and Little Y can pass level [2, 4], so they can pass all the levels both.\n",
    "\n",
    "Sample Input 1\n",
    "\n",
    "4\n",
    "3 1 2 3\n",
    "2 2 3\n",
    "\n",
    "Sample Output 1\n",
    "\n",
    "Oh, my keyboard!\n",
    "\n",
    "Explanation 1\n",
    "\n",
    "In the second sample, no one can pass level 4."
   ]
  },
  {
   "cell_type": "code",
   "execution_count": null,
   "metadata": {},
   "outputs": [],
   "source": [
    "def game(n,p,x,q,y):\n",
    "    result = \"I become the guy.\"\n",
    "    if p == n or q == n:\n",
    "        result = \"I become the guy.\"\n",
    "    else:\n",
    "        d = x+y\n",
    "        for i in range(1,n+1):\n",
    "            if (not(i in d)):\n",
    "                result = \"Oh, my keyboard!\"\n",
    "                break\n",
    "\n",
    "    return result"
   ]
  }
 ],
 "metadata": {
  "kernelspec": {
   "display_name": "Python 3",
   "language": "python",
   "name": "python3"
  },
  "language_info": {
   "codemirror_mode": {
    "name": "ipython",
    "version": 3
   },
   "file_extension": ".py",
   "mimetype": "text/x-python",
   "name": "python",
   "nbconvert_exporter": "python",
   "pygments_lexer": "ipython3",
   "version": "3.7.8"
  }
 },
 "nbformat": 4,
 "nbformat_minor": 4
}
